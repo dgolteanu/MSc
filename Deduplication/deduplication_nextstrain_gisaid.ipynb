{
 "cells": [
  {
   "cell_type": "code",
   "execution_count": null,
   "metadata": {},
   "outputs": [],
   "source": [
    "import pandas as pd\n",
    "import numpy as np\n",
    "from collections import Counter"
   ]
  },
  {
   "cell_type": "code",
   "execution_count": null,
   "metadata": {},
   "outputs": [],
   "source": [
    "# Parse duplicates.txt of duplicates removed output from seqkit rmdup -s \n",
    "# THIS FILE HAS A SPACE AFTER EACH COMMA which is masked by excel/pandas CAREFUL, hence the `sep`\n",
    "duplicates = pd.read_table('./gisaid_duplicated.txt', header=None, sep='\\t+|, ',engine='python')"
   ]
  },
  {
   "cell_type": "code",
   "execution_count": null,
   "metadata": {},
   "outputs": [],
   "source": [
    "# Formatting of the duplicates.txt derived dataframe, rows represent a set of unique duplicates that were removed. \n",
    "# Index number represents number of duplicates in the set\n",
    "duplicates.set_index([0], inplace=True)\n",
    "duplicates.rename('{}_duplicates'.format,inplace=True)"
   ]
  },
  {
   "cell_type": "code",
   "execution_count": null,
   "metadata": {},
   "outputs": [],
   "source": [
    "# Load metadata file to check if duplicates are across different classes (clades in this case).`cleaned_gisaid<20.csv` can be generate by downloading dataset from /Users/dolteanu/local_documents/Coding/MSc_github/Data/Nextstrain/Nextstrain_gisaid>20_EPI.csv in this repository\n",
    "metadata = pd.read_csv('./gisaid_metadata.csv', header=None, index_col=0)"
   ]
  },
  {
   "cell_type": "code",
   "execution_count": null,
   "metadata": {},
   "outputs": [],
   "source": [
    "#Iterate through dataframe by columns to make new table where every other column is class label of preceeding accession id\n",
    "# Done this way to preserve table shape (only doubled number of columns)\n",
    "table = []\n",
    "for labels in duplicates:\n",
    "    # Similar to map function, merges accession id with it's class label \n",
    "    sample = pd.merge(duplicates[labels],metadata,how='left',left_on=labels,right_index=True)\n",
    "    table.append(sample)\n",
    "final_table = pd.concat(table,axis=1,ignore_index=True)\n",
    "final_table.to_csv('removed_duplicates_nextstrain_gisaid.csv',header=None)\n",
    "   "
   ]
  },
  {
   "cell_type": "code",
   "execution_count": null,
   "metadata": {},
   "outputs": [],
   "source": [
    "# Create dictionary of fasta headers: class label for checking presence of multiple class labels\n",
    "meta_dict = {}\n",
    "for x in metadata.iterrows():\n",
    "    meta_dict[x[0]] = x[1].iloc[0]"
   ]
  },
  {
   "cell_type": "code",
   "execution_count": null,
   "metadata": {},
   "outputs": [],
   "source": [
    "# Print out rows (set of identical duplicates) in csv which have multiple class labels and counts thereof.\n",
    "for i in range(len(duplicates.index)):\n",
    "    label = duplicates.iloc[i,:].map(meta_dict)\n",
    "    if label.nunique() != 1:\n",
    "        print(f'Table row {i}:\\n{label.value_counts()}\\n')"
   ]
  }
 ],
 "metadata": {
  "interpreter": {
   "hash": "437e530e1211667c31e526bac4fb362423203f9285acc500ca69089e6622449e"
  },
  "kernelspec": {
   "display_name": "Python 3.9.0 64-bit ('playground')",
   "language": "python",
   "name": "python3"
  },
  "language_info": {
   "codemirror_mode": {
    "name": "ipython",
    "version": 3
   },
   "file_extension": ".py",
   "mimetype": "text/x-python",
   "name": "python",
   "nbconvert_exporter": "python",
   "pygments_lexer": "ipython3",
   "version": "3.9.0"
  },
  "orig_nbformat": 4
 },
 "nbformat": 4,
 "nbformat_minor": 2
}
