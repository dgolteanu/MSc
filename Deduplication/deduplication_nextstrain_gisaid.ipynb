{
 "cells": [
  {
   "cell_type": "code",
   "execution_count": 1,
   "metadata": {},
   "outputs": [],
   "source": [
    "import pandas as pd\n",
    "import numpy as np\n",
    "from collections import Counter"
   ]
  },
  {
   "cell_type": "code",
   "execution_count": 2,
   "metadata": {},
   "outputs": [],
   "source": [
    "# Parse duplicates.txt of duplicates removed output from seqkit rmdup -s \n",
    "# THIS FILE HAS A SPACE AFTER EACH COMMA which is masked by excel/pandas CAREFUL, hence the `sep`\n",
    "duplicates = pd.read_table('./gisaid_duplicated.txt', header=None, sep='\\t+|, ',engine='python')"
   ]
  },
  {
   "cell_type": "code",
   "execution_count": 3,
   "metadata": {},
   "outputs": [],
   "source": [
    "# Formatting of the duplicates.txt derived dataframe, rows represent a set of unique duplicates that were removed. \n",
    "# Index number represents number of duplicates in the set\n",
    "duplicates.set_index([0], inplace=True)\n",
    "duplicates.rename('{}_duplicates'.format,inplace=True)"
   ]
  },
  {
   "cell_type": "code",
   "execution_count": 4,
   "metadata": {},
   "outputs": [],
   "source": [
    "# Load metadata file to check if duplicates are across different classes (clades in this case).`cleaned_gisaid<20.csv` can be generate by downloading dataset from /Users/dolteanu/local_documents/Coding/MSc_github/Data/Nextstrain/Nextstrain_gisaid>20_EPI.csv in this repository\n",
    "metadata = pd.read_csv('./gisaid_metadata.csv', header=None, index_col=0)"
   ]
  },
  {
   "cell_type": "code",
   "execution_count": 5,
   "metadata": {},
   "outputs": [],
   "source": [
    "#Iterate through dataframe by columns to make new table where every other column is class label of preceeding accession id\n",
    "# Done this way to preserve table shape (only doubled number of columns)\n",
    "table = []\n",
    "for labels in duplicates:\n",
    "    # Similar to map function, merges accession id with it's class label \n",
    "    sample = pd.merge(duplicates[labels],metadata,how='left',left_on=labels,right_index=True)\n",
    "    table.append(sample)\n",
    "final_table = pd.concat(table,axis=1,ignore_index=True)\n",
    "final_table.to_csv('removed_duplicates_nextstrain_gisaid.csv',header=None)\n",
    "   "
   ]
  },
  {
   "cell_type": "code",
   "execution_count": 6,
   "metadata": {},
   "outputs": [
    {
     "ename": "IndexError",
     "evalue": "single positional indexer is out-of-bounds",
     "output_type": "error",
     "traceback": [
      "\u001b[0;31m---------------------------------------------------------------------------\u001b[0m",
      "\u001b[0;31mIndexError\u001b[0m                                Traceback (most recent call last)",
      "\u001b[1;32m/Users/dolteanu/local_documents/Coding/MSc_github/Deduplication/deduplication_nextstrain_gisaid.ipynb Cell 6'\u001b[0m in \u001b[0;36m<cell line: 3>\u001b[0;34m()\u001b[0m\n\u001b[1;32m      <a href='vscode-notebook-cell:/Users/dolteanu/local_documents/Coding/MSc_github/Deduplication/deduplication_nextstrain_gisaid.ipynb#ch0000005?line=1'>2</a>\u001b[0m meta_dict \u001b[39m=\u001b[39m {}\n\u001b[1;32m      <a href='vscode-notebook-cell:/Users/dolteanu/local_documents/Coding/MSc_github/Deduplication/deduplication_nextstrain_gisaid.ipynb#ch0000005?line=2'>3</a>\u001b[0m \u001b[39mfor\u001b[39;00m x \u001b[39min\u001b[39;00m metadata\u001b[39m.\u001b[39miterrows():\n\u001b[0;32m----> <a href='vscode-notebook-cell:/Users/dolteanu/local_documents/Coding/MSc_github/Deduplication/deduplication_nextstrain_gisaid.ipynb#ch0000005?line=3'>4</a>\u001b[0m     meta_dict[x[\u001b[39m0\u001b[39m]] \u001b[39m=\u001b[39m x[\u001b[39m1\u001b[39;49m]\u001b[39m.\u001b[39;49miloc[\u001b[39m0\u001b[39;49m]\n",
      "File \u001b[0;32m~/.pyenv/versions/3.9.0/envs/playground/lib/python3.9/site-packages/pandas/core/indexing.py:967\u001b[0m, in \u001b[0;36m_LocationIndexer.__getitem__\u001b[0;34m(self, key)\u001b[0m\n\u001b[1;32m    <a href='file:///Users/dolteanu/.pyenv/versions/3.9.0/envs/playground/lib/python3.9/site-packages/pandas/core/indexing.py?line=963'>964</a>\u001b[0m axis \u001b[39m=\u001b[39m \u001b[39mself\u001b[39m\u001b[39m.\u001b[39maxis \u001b[39mor\u001b[39;00m \u001b[39m0\u001b[39m\n\u001b[1;32m    <a href='file:///Users/dolteanu/.pyenv/versions/3.9.0/envs/playground/lib/python3.9/site-packages/pandas/core/indexing.py?line=965'>966</a>\u001b[0m maybe_callable \u001b[39m=\u001b[39m com\u001b[39m.\u001b[39mapply_if_callable(key, \u001b[39mself\u001b[39m\u001b[39m.\u001b[39mobj)\n\u001b[0;32m--> <a href='file:///Users/dolteanu/.pyenv/versions/3.9.0/envs/playground/lib/python3.9/site-packages/pandas/core/indexing.py?line=966'>967</a>\u001b[0m \u001b[39mreturn\u001b[39;00m \u001b[39mself\u001b[39;49m\u001b[39m.\u001b[39;49m_getitem_axis(maybe_callable, axis\u001b[39m=\u001b[39;49maxis)\n",
      "File \u001b[0;32m~/.pyenv/versions/3.9.0/envs/playground/lib/python3.9/site-packages/pandas/core/indexing.py:1520\u001b[0m, in \u001b[0;36m_iLocIndexer._getitem_axis\u001b[0;34m(self, key, axis)\u001b[0m\n\u001b[1;32m   <a href='file:///Users/dolteanu/.pyenv/versions/3.9.0/envs/playground/lib/python3.9/site-packages/pandas/core/indexing.py?line=1516'>1517</a>\u001b[0m     \u001b[39mraise\u001b[39;00m \u001b[39mTypeError\u001b[39;00m(\u001b[39m\"\u001b[39m\u001b[39mCannot index by location index with a non-integer key\u001b[39m\u001b[39m\"\u001b[39m)\n\u001b[1;32m   <a href='file:///Users/dolteanu/.pyenv/versions/3.9.0/envs/playground/lib/python3.9/site-packages/pandas/core/indexing.py?line=1518'>1519</a>\u001b[0m \u001b[39m# validate the location\u001b[39;00m\n\u001b[0;32m-> <a href='file:///Users/dolteanu/.pyenv/versions/3.9.0/envs/playground/lib/python3.9/site-packages/pandas/core/indexing.py?line=1519'>1520</a>\u001b[0m \u001b[39mself\u001b[39;49m\u001b[39m.\u001b[39;49m_validate_integer(key, axis)\n\u001b[1;32m   <a href='file:///Users/dolteanu/.pyenv/versions/3.9.0/envs/playground/lib/python3.9/site-packages/pandas/core/indexing.py?line=1521'>1522</a>\u001b[0m \u001b[39mreturn\u001b[39;00m \u001b[39mself\u001b[39m\u001b[39m.\u001b[39mobj\u001b[39m.\u001b[39m_ixs(key, axis\u001b[39m=\u001b[39maxis)\n",
      "File \u001b[0;32m~/.pyenv/versions/3.9.0/envs/playground/lib/python3.9/site-packages/pandas/core/indexing.py:1452\u001b[0m, in \u001b[0;36m_iLocIndexer._validate_integer\u001b[0;34m(self, key, axis)\u001b[0m\n\u001b[1;32m   <a href='file:///Users/dolteanu/.pyenv/versions/3.9.0/envs/playground/lib/python3.9/site-packages/pandas/core/indexing.py?line=1449'>1450</a>\u001b[0m len_axis \u001b[39m=\u001b[39m \u001b[39mlen\u001b[39m(\u001b[39mself\u001b[39m\u001b[39m.\u001b[39mobj\u001b[39m.\u001b[39m_get_axis(axis))\n\u001b[1;32m   <a href='file:///Users/dolteanu/.pyenv/versions/3.9.0/envs/playground/lib/python3.9/site-packages/pandas/core/indexing.py?line=1450'>1451</a>\u001b[0m \u001b[39mif\u001b[39;00m key \u001b[39m>\u001b[39m\u001b[39m=\u001b[39m len_axis \u001b[39mor\u001b[39;00m key \u001b[39m<\u001b[39m \u001b[39m-\u001b[39mlen_axis:\n\u001b[0;32m-> <a href='file:///Users/dolteanu/.pyenv/versions/3.9.0/envs/playground/lib/python3.9/site-packages/pandas/core/indexing.py?line=1451'>1452</a>\u001b[0m     \u001b[39mraise\u001b[39;00m \u001b[39mIndexError\u001b[39;00m(\u001b[39m\"\u001b[39m\u001b[39msingle positional indexer is out-of-bounds\u001b[39m\u001b[39m\"\u001b[39m)\n",
      "\u001b[0;31mIndexError\u001b[0m: single positional indexer is out-of-bounds"
     ]
    }
   ],
   "source": [
    "# Create dictionary of fasta headers: class label for checking presence of multiple class labels\n",
    "meta_dict = {}\n",
    "for x in metadata.iterrows():\n",
    "    meta_dict[x[0]] = x[1].iloc[0]"
   ]
  },
  {
   "cell_type": "code",
   "execution_count": 8,
   "metadata": {},
   "outputs": [],
   "source": [
    "# Print out rows (set of identical duplicates) in csv which have multiple class labels and counts thereof.\n",
    "for i in range(len(duplicates.index)):\n",
    "    label = duplicates.iloc[i,:].map(meta_dict)\n",
    "    if label.nunique() != 1:\n",
    "        print(f'Table row {i}:\\n{label.value_counts()}\\n')"
   ]
  }
 ],
 "metadata": {
  "interpreter": {
   "hash": "437e530e1211667c31e526bac4fb362423203f9285acc500ca69089e6622449e"
  },
  "kernelspec": {
   "display_name": "Python 3.9.0 64-bit ('playground')",
   "language": "python",
   "name": "python3"
  },
  "language_info": {
   "codemirror_mode": {
    "name": "ipython",
    "version": 3
   },
   "file_extension": ".py",
   "mimetype": "text/x-python",
   "name": "python",
   "nbconvert_exporter": "python",
   "pygments_lexer": "ipython3",
   "version": "3.9.0"
  },
  "orig_nbformat": 4
 },
 "nbformat": 4,
 "nbformat_minor": 2
}
