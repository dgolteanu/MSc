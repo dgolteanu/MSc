{
 "cells": [
  {
   "cell_type": "code",
   "execution_count": 27,
   "metadata": {},
   "outputs": [],
   "source": [
    "import pandas as pd\n",
    "import numpy as np\n",
    "from collections import Counter"
   ]
  },
  {
   "cell_type": "code",
   "execution_count": 2,
   "metadata": {},
   "outputs": [],
   "source": [
    "# Parse txt of duplicates removed output from seqkit rmdup -D \n",
    "# THIS FILE HAS A SPACE AFTER EACH COMMA which is masked by excel/pandas CAREFUL, hence the `sep`\n",
    "duplicates = pd.read_table('/Users/dolteanu/local_documents/Coding/Ontario covid data/Ontario_covid/duplicates.txt', header=None, sep='\\t+|, ',engine='python')"
   ]
  },
  {
   "cell_type": "code",
   "execution_count": 3,
   "metadata": {},
   "outputs": [],
   "source": [
    "# Formatting of the duplicates.txt derived dataframe, rows represent a set of unique duplicates that were removed. \n",
    "# Index number represents number of duplicates in the set\n",
    "duplicates.set_index([0], inplace=True)\n",
    "duplicates.rename('{}_duplicates'.format,inplace=True)"
   ]
  },
  {
   "cell_type": "code",
   "execution_count": 5,
   "metadata": {},
   "outputs": [],
   "source": [
    "# Load metadata file to check if duplicates are across different classes (clades in this case)\n",
    "metadata = pd.read_csv('/Users/dolteanu/local_documents/Coding/Ontario covid data/Ontario_covid/gisaid_clade_metadata.csv', header=None, index_col=0)"
   ]
  },
  {
   "cell_type": "code",
   "execution_count": 36,
   "metadata": {},
   "outputs": [],
   "source": [
    "#Iterate through dataframe by columns to make new table where every other column is class label of preceeding accession id\n",
    "# Done this way to preserve table shape (only doubled number of columns)\n",
    "table = []\n",
    "for labels in duplicates:\n",
    "    # Similar to map function, merges accession id with it's class label \n",
    "    sample = pd.merge(duplicates[labels],metadata,how='left',left_on=labels,right_index=True)\n",
    "    table.append(sample)\n",
    "final_table = pd.concat(table,axis=1,ignore_index=True)\n",
    "final_table.to_csv('removed_duplicates_ont_covid_gisaid.csv',header=None)\n",
    "   "
   ]
  },
  {
   "cell_type": "code",
   "execution_count": 7,
   "metadata": {},
   "outputs": [],
   "source": [
    "# Create dictionary of fasta headers: class label for checking presence of multiple class labels\n",
    "meta_dict = {}\n",
    "for x in metadata.iterrows():\n",
    "    meta_dict[x[0]] = x[1].iloc[0]"
   ]
  },
  {
   "cell_type": "code",
   "execution_count": 35,
   "metadata": {},
   "outputs": [
    {
     "name": "stdout",
     "output_type": "stream",
     "text": [
      "Row 10:\n",
      "GRY    30\n",
      "GR      1\n",
      "Name: 31_duplicates, dtype: int64\n",
      "\n",
      "Row 83:\n",
      "GRY    7\n",
      "GR     2\n",
      "Name: 9_duplicates, dtype: int64\n",
      "\n",
      "Row 174:\n",
      "GRY    5\n",
      "GR     1\n",
      "Name: 6_duplicates, dtype: int64\n",
      "\n",
      "Row 231:\n",
      "GRY    4\n",
      "GR     1\n",
      "Name: 5_duplicates, dtype: int64\n",
      "\n",
      "Row 352:\n",
      "GRY    3\n",
      "GR     1\n",
      "Name: 4_duplicates, dtype: int64\n",
      "\n",
      "Row 603:\n",
      "GRY    2\n",
      "GR     1\n",
      "Name: 3_duplicates, dtype: int64\n",
      "\n",
      "Row 1341:\n",
      "GR     1\n",
      "GRY    1\n",
      "Name: 2_duplicates, dtype: int64\n",
      "\n"
     ]
    }
   ],
   "source": [
    "# Print out rows (set of identical duplicates) in csv which have multiple class labels and counts thereof.\n",
    "for i in range(len(duplicates.index)):\n",
    "    label = duplicates.iloc[i,:].map(meta_dict)\n",
    "    if label.nunique() != 1:\n",
    "        print(f'Table row {i}:\\n{label.value_counts()}\\n')"
   ]
  }
 ],
 "metadata": {
  "interpreter": {
   "hash": "437e530e1211667c31e526bac4fb362423203f9285acc500ca69089e6622449e"
  },
  "kernelspec": {
   "display_name": "Python 3.9.0 64-bit ('playground')",
   "language": "python",
   "name": "python3"
  },
  "language_info": {
   "codemirror_mode": {
    "name": "ipython",
    "version": 3
   },
   "file_extension": ".py",
   "mimetype": "text/x-python",
   "name": "python",
   "nbconvert_exporter": "python",
   "pygments_lexer": "ipython3",
   "version": "3.9.0"
  },
  "orig_nbformat": 4
 },
 "nbformat": 4,
 "nbformat_minor": 2
}
