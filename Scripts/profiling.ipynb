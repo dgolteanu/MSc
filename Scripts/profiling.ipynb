{
 "cells": [
  {
   "cell_type": "code",
   "execution_count": 1,
   "metadata": {},
   "outputs": [],
   "source": [
    "import pstats\n",
    "from pstats import SortKey\n",
    "# import cProfile\n",
    "# import snakeviz\n",
    "# import pathlib"
   ]
  },
  {
   "cell_type": "code",
   "execution_count": 4,
   "metadata": {},
   "outputs": [],
   "source": [
    "# Insert path to desired cProfile profiling output file ({run_name}_profile.prof) \n",
    "profile = './postDP/BacteriaTest_no_testing_3/BacteriaTest_no_testing_3_profile.prof'"
   ]
  },
  {
   "cell_type": "code",
   "execution_count": 5,
   "metadata": {},
   "outputs": [],
   "source": [
    "# Read profile using pstats module\n",
    "Stats_object = pstats.Stats(profile)"
   ]
  },
  {
   "cell_type": "code",
   "execution_count": 6,
   "metadata": {},
   "outputs": [
    {
     "data": {
      "text/plain": [
       "<pstats.Stats at 0x114612cd0>"
      ]
     },
     "execution_count": 6,
     "metadata": {},
     "output_type": "execute_result"
    }
   ],
   "source": [
    "# remove leading path name for readability\n",
    "Stats_object.strip_dirs()\n"
   ]
  },
  {
   "cell_type": "code",
   "execution_count": 7,
   "metadata": {},
   "outputs": [
    {
     "name": "stdout",
     "output_type": "stream",
     "text": [
      "Tue Nov 15 20:33:10 2022    ./postDP/BacteriaTest_no_testing_3/BacteriaTest_no_testing_3_profile.prof\n",
      "\n",
      "         41066040 function calls (40776244 primitive calls) in 773.661 seconds\n",
      "\n",
      "   Ordered by: cumulative time\n",
      "   List reduced from 11946 to 30 due to restriction <30>\n",
      "\n",
      "   ncalls  tottime  percall  cumtime  percall filename:lineno(function)\n",
      "        1    0.000    0.000  770.288  770.288 main.py:254(execute)\n",
      "        1    0.144    0.144  770.286  770.286 main.py:126(startCalcProcess_train)\n",
      "        1    3.759    3.759  637.832  637.832 classification.py:25(classify_dismat)\n",
      "       40    0.013    0.000  615.800   15.395 pipeline.py:363(fit)\n",
      "       10    0.222    0.022  388.667   38.867 discriminant_analysis.py:522(fit)\n",
      "       10    2.448    0.245  388.320   38.832 discriminant_analysis.py:452(_solve_svd)\n",
      "       21  370.990   17.666  371.158   17.674 _decomp_svd.py:13(svd)\n",
      "       20    0.001    0.000  217.995   10.900 _base.py:139(fit)\n",
      "       20    0.033    0.002  215.517   10.776 _base.py:292(_dense_fit)\n",
      "       20  215.481   10.774  215.482   10.774 {sklearn.svm._libsvm.fit}\n",
      "       11    0.001    0.000  110.397   10.036 parallel.py:960(__call__)\n",
      "       11    0.257    0.023  110.214   10.019 parallel.py:920(retrieve)\n",
      "      680    0.005    0.000  109.938    0.162 threading.py:280(wait)\n",
      "     2183  109.934    0.050  109.934    0.050 {method 'acquire' of '_thread.lock' objects}\n",
      "     4710    0.003    0.000  108.625    0.023 _parallel_backends.py:537(wrap_future_result)\n",
      "     4710    0.010    0.000  108.622    0.023 _base.py:413(result)\n",
      "       40    0.031    0.001   18.153    0.454 metaestimators.py:113(<lambda>)\n",
      "       40    0.001    0.000   18.122    0.453 pipeline.py:438(predict)\n",
      "       20    0.000    0.000   16.082    0.804 _base.py:761(predict)\n",
      "       20    0.000    0.000   16.080    0.804 _base.py:398(predict)\n",
      "       20    0.000    0.000   16.053    0.803 _base.py:418(_dense_predict)\n",
      "       20   16.053    0.803   16.053    0.803 {sklearn.svm._libsvm.predict}\n",
      "        1    0.115    0.115   13.904   13.904 preprocessing.py:39(preprocessing)\n",
      "       10    0.001    0.000   12.656    1.266 discriminant_analysis.py:96(_class_means)\n",
      "       10   12.650    1.265   12.650    1.265 {method 'at' of 'numpy.ufunc' objects}\n",
      "        1    0.001    0.001   10.094   10.094 __init__.py:980(__init__)\n",
      "        1    0.000    0.000   10.091   10.091 __init__.py:323(__init__)\n",
      "        1    6.682    6.682   10.068   10.068 __init__.py:520(build_index)\n",
      "      372    0.008    0.000    9.486    0.026 __init__.py:1(<module>)\n",
      "       40    0.001    0.000    8.959    0.224 pipeline.py:313(_fit)\n",
      "\n",
      "\n"
     ]
    },
    {
     "data": {
      "text/plain": [
       "<pstats.Stats at 0x114612cd0>"
      ]
     },
     "execution_count": 7,
     "metadata": {},
     "output_type": "execute_result"
    }
   ],
   "source": [
    "# Sort statistics by 'cumtime' the total cumulative time for that function to run so we can see what is contributing most to runtime.\n",
    "# Only show top 30 most time-consuming functions\n",
    "Stats_object.sort_stats(SortKey.CUMULATIVE).print_stats(30)"
   ]
  },
  {
   "cell_type": "code",
   "execution_count": 8,
   "metadata": {},
   "outputs": [
    {
     "name": "stdout",
     "output_type": "stream",
     "text": [
      "Tue Nov 15 20:33:10 2022    ./postDP/BacteriaTest_no_testing_3/BacteriaTest_no_testing_3_profile.prof\n",
      "\n",
      "         41066040 function calls (40776244 primitive calls) in 773.661 seconds\n",
      "\n",
      "   Ordered by: internal time\n",
      "   List reduced from 11946 to 30 due to restriction <30>\n",
      "\n",
      "   ncalls  tottime  percall  cumtime  percall filename:lineno(function)\n",
      "       21  370.990   17.666  371.158   17.674 _decomp_svd.py:13(svd)\n",
      "       20  215.481   10.774  215.482   10.774 {sklearn.svm._libsvm.fit}\n",
      "     2183  109.934    0.050  109.934    0.050 {method 'acquire' of '_thread.lock' objects}\n",
      "       20   16.053    0.803   16.053    0.803 {sklearn.svm._libsvm.predict}\n",
      "       10   12.650    1.265   12.650    1.265 {method 'at' of 'numpy.ufunc' objects}\n",
      "        1    6.682    6.682   10.068   10.068 __init__.py:520(build_index)\n",
      "        1    3.759    3.759  637.832  637.832 classification.py:25(classify_dismat)\n",
      "    18525    3.318    0.000    3.318    0.000 {method 'reduce' of 'numpy.ufunc' objects}\n",
      "       30    3.084    0.103    4.623    0.154 extmath.py:899(_incremental_mean_and_var)\n",
      "     3874    2.694    0.001    2.694    0.001 {built-in method numpy.array}\n",
      "       31    2.651    0.086    3.249    0.105 _methods.py:195(_var)\n",
      "        8    2.546    0.318    2.546    0.318 {method 'readline' of '_io.BufferedReader' objects}\n",
      "       10    2.448    0.245  388.320   38.832 discriminant_analysis.py:452(_solve_svd)\n",
      "     4712    2.121    0.000    2.213    0.000 {method 'read' of '_io.TextIOWrapper' objects}\n",
      "41567/26613    1.654    0.000    5.925    0.000 {built-in method numpy.core._multiarray_umath.implement_array_function}\n",
      "17501959/17498938    1.471    0.000    1.473    0.000 {built-in method builtins.len}\n",
      "       60    1.118    0.019    3.970    0.066 _data.py:955(transform)\n",
      "  8248603    1.035    0.000    1.035    0.000 {method 'rstrip' of 'str' objects}\n",
      "  8193213    0.982    0.000    0.982    0.000 {method 'decode' of 'bytes' objects}\n",
      "      222    0.728    0.003    0.731    0.003 {built-in method _imp.create_dynamic}\n",
      "     2509    0.712    0.000    0.712    0.000 {method 'read' of '_io.BufferedReader' objects}\n",
      "     9500    0.600    0.000    0.663    0.000 {built-in method io.open}\n",
      "        1    0.506    0.506    0.506    0.506 {method 'tofile' of 'numpy.ndarray' objects}\n",
      "       26    0.430    0.017    0.430    0.017 extmath.py:120(safe_sparse_dot)\n",
      "    11222    0.347    0.000    0.347    0.000 {built-in method posix.stat}\n",
      "    11965    0.342    0.000    0.342    0.000 {method '__exit__' of '_io._IOBase' objects}\n",
      "     9425    0.317    0.000    0.317    0.000 {method 'write' of '_io.TextIOWrapper' objects}\n",
      "     2467    0.278    0.000    0.278    0.000 {built-in method marshal.loads}\n",
      "       30    0.277    0.009    5.224    0.174 _data.py:808(partial_fit)\n",
      " 131913/2    0.266    0.000    1.990    0.995 pickle.py:533(save)\n",
      "\n",
      "\n"
     ]
    },
    {
     "data": {
      "text/plain": [
       "<pstats.Stats at 0x114612cd0>"
      ]
     },
     "execution_count": 8,
     "metadata": {},
     "output_type": "execute_result"
    }
   ],
   "source": [
    "# Sort statistics by 'tottime' the total time in that given function not including sub-calls to see which functions may be looping alot.\n",
    "# Only show top 30\n",
    "Stats_object.sort_stats(SortKey.TIME).print_stats(30)"
   ]
  }
 ],
 "metadata": {
  "interpreter": {
   "hash": "a4eda3d9fe943090cb05df5ce8e45003fb8f4723850ba6f9bd2cce3886b69592"
  },
  "kernelspec": {
   "display_name": "Python 3.8.0 64-bit ('MLDSP')",
   "language": "python",
   "name": "python3"
  },
  "language_info": {
   "codemirror_mode": {
    "name": "ipython",
    "version": 3
   },
   "file_extension": ".py",
   "mimetype": "text/x-python",
   "name": "python",
   "nbconvert_exporter": "python",
   "pygments_lexer": "ipython3",
   "version": "3.9.0"
  },
  "orig_nbformat": 4
 },
 "nbformat": 4,
 "nbformat_minor": 2
}
