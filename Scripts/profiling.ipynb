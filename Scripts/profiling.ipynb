{
 "cells": [
  {
   "cell_type": "code",
   "execution_count": 11,
   "metadata": {},
   "outputs": [],
   "source": [
    "import pstats\n",
    "from pstats import SortKey\n",
    "import cProfile\n",
    "import snakeviz\n",
    "import pathlib"
   ]
  },
  {
   "cell_type": "code",
   "execution_count": 12,
   "metadata": {},
   "outputs": [],
   "source": [
    "# Insert path to desired cProfile profiling output file ({run_name}_profile.prof) \n",
    "profile = '/Users/dolteanu/local_documents/Coding/MSc_github/Results/Influenza/Influenza_profile.prof'"
   ]
  },
  {
   "cell_type": "code",
   "execution_count": 13,
   "metadata": {},
   "outputs": [],
   "source": [
    "# Read profile using pstats module\n",
    "Stats_object = pstats.Stats(profile)"
   ]
  },
  {
   "cell_type": "code",
   "execution_count": 15,
   "metadata": {},
   "outputs": [
    {
     "data": {
      "text/plain": [
       "<pstats.Stats at 0x10d1f8070>"
      ]
     },
     "execution_count": 15,
     "metadata": {},
     "output_type": "execute_result"
    }
   ],
   "source": [
    "# remove leading path name for readability\n",
    "Stats_object.strip_dirs()\n"
   ]
  },
  {
   "cell_type": "code",
   "execution_count": 16,
   "metadata": {},
   "outputs": [
    {
     "name": "stdout",
     "output_type": "stream",
     "text": [
      "Sun Jan 15 21:52:53 2023    /Users/dolteanu/local_documents/Coding/MSc_github/Results/Influenza/Influenza_profile.prof\n",
      "\n",
      "         5400723 function calls (5318169 primitive calls) in 14.016 seconds\n",
      "\n",
      "   Ordered by: cumulative time\n",
      "   List reduced from 11822 to 30 due to restriction <30>\n",
      "\n",
      "   ncalls  tottime  percall  cumtime  percall filename:lineno(function)\n",
      "      367    0.009    0.000    9.964    0.027 __init__.py:1(<module>)\n",
      "        1    0.003    0.003    9.862    9.862 main.py:298(execute)\n",
      "        1    0.001    0.001    9.856    9.856 main.py:139(startCalcProcess_train)\n",
      "       21    0.001    0.000    6.637    0.316 parallel.py:960(__call__)\n",
      "     1939    6.410    0.003    6.410    0.003 {method 'acquire' of '_thread.lock' objects}\n",
      "      331    0.001    0.000    6.408    0.019 threading.py:280(wait)\n",
      "       21    0.002    0.000    6.392    0.304 parallel.py:920(retrieve)\n",
      "       38    0.000    0.000    6.346    0.167 _parallel_backends.py:537(wrap_future_result)\n",
      "       38    0.000    0.000    6.346    0.167 _base.py:413(result)\n",
      "3690/1629    0.020    0.000    5.518    0.003 <frozen importlib._bootstrap>:1002(_find_and_load)\n",
      " 2700/682    0.011    0.000    5.481    0.008 <frozen importlib._bootstrap>:967(_find_and_load_unlocked)\n",
      " 2613/680    0.012    0.000    5.228    0.008 <frozen importlib._bootstrap>:659(_load_unlocked)\n",
      " 2375/680    0.008    0.000    5.208    0.008 <frozen importlib._bootstrap_external>:784(exec_module)\n",
      " 3253/681    0.003    0.000    4.794    0.007 <frozen importlib._bootstrap>:220(_call_with_frames_removed)\n",
      " 2959/680    0.035    0.000    4.781    0.007 {built-in method builtins.exec}\n",
      "  795/127    0.002    0.000    4.091    0.032 {built-in method builtins.__import__}\n",
      "2829/1683    0.004    0.000    3.104    0.002 <frozen importlib._bootstrap>:1033(_handle_fromlist)\n",
      "1682/1627    0.003    0.000    1.686    0.001 __init__.py:109(import_module)\n",
      "1688/1627    0.002    0.000    1.683    0.001 <frozen importlib._bootstrap>:1018(_gcd_import)\n",
      "     2375    0.027    0.000    1.623    0.001 <frozen importlib._bootstrap_external>:856(get_code)\n",
      "        1    0.000    0.000    1.527    1.527 classification.py:1(<module>)\n",
      "        1    0.000    0.000    1.500    1.500 visualisation.py:83(plot3d)\n",
      "        1    0.000    0.000    1.480    1.480 visualisation.py:1(<module>)\n",
      "        1    0.000    0.000    1.443    1.443 _chart_types.py:716(scatter_3d)\n",
      "        1    0.000    0.000    1.441    1.441 _core.py:1940(make_figure)\n",
      "2613/2574    0.005    0.000    1.253    0.000 <frozen importlib._bootstrap>:558(module_from_spec)\n",
      "     2377    0.013    0.000    1.206    0.001 <frozen importlib._bootstrap_external>:976(get_data)\n",
      "5200/5030    0.079    0.000    1.127    0.000 {built-in method builtins.__build_class__}\n",
      "      218    0.001    0.000    1.112    0.005 <frozen importlib._bootstrap_external>:1106(create_module)\n",
      "      218    1.108    0.005    1.111    0.005 {built-in method _imp.create_dynamic}\n",
      "\n",
      "\n"
     ]
    },
    {
     "data": {
      "text/plain": [
       "<pstats.Stats at 0x10d1f8070>"
      ]
     },
     "execution_count": 16,
     "metadata": {},
     "output_type": "execute_result"
    }
   ],
   "source": [
    "# Sort statistics by 'cumtime' the total cumulative time for that function to run so we can see what is contributing most to runtime.\n",
    "# Only show top 30 most time-consuming functions\n",
    "Stats_object.sort_stats(SortKey.CUMULATIVE).print_stats(30)"
   ]
  },
  {
   "cell_type": "code",
   "execution_count": null,
   "metadata": {},
   "outputs": [],
   "source": [
    "# Sort statistics by 'tottime' the total time in that given function not including sub-calls to see which functions may be looping alot.\n",
    "# Only show top 30\n",
    "Stats_object.sort_stats(SortKey.TIME).print_stats(30)"
   ]
  },
  {
   "cell_type": "code",
   "execution_count": 23,
   "metadata": {},
   "outputs": [],
   "source": [
    "%load_ext snakeviz"
   ]
  },
  {
   "cell_type": "code",
   "execution_count": 28,
   "metadata": {},
   "outputs": [
    {
     "name": "stdout",
     "output_type": "stream",
     "text": [
      " \n",
      "*** Profile stats marshalled to file '/var/folders/85/rn2xv8ns61s_lt8kz3fjnm8r0000gn/T/tmpz3sqcv5i'.\n",
      "Embedding SnakeViz in this document...\n"
     ]
    },
    {
     "data": {
      "text/html": [
       "\n",
       "<iframe id='snakeviz-cbe362d8-9518-11ed-b730-acde48001122' frameborder=0 seamless width='100%' height='1000'></iframe>\n",
       "<script>document.getElementById(\"snakeviz-cbe362d8-9518-11ed-b730-acde48001122\").setAttribute(\"src\", \"http://\" + document.location.hostname + \":8080/snakeviz/%2Fvar%2Ffolders%2F85%2Frn2xv8ns61s_lt8kz3fjnm8r0000gn%2FT%2Ftmpz3sqcv5i\")</script>\n"
      ],
      "text/plain": [
       "<IPython.core.display.HTML object>"
      ]
     },
     "metadata": {},
     "output_type": "display_data"
    }
   ],
   "source": [
    "%snakeviz profile"
   ]
  }
 ],
 "metadata": {
  "interpreter": {
   "hash": "a4eda3d9fe943090cb05df5ce8e45003fb8f4723850ba6f9bd2cce3886b69592"
  },
  "kernelspec": {
   "display_name": "Python 3.8.0 64-bit ('MLDSP')",
   "language": "python",
   "name": "python3"
  },
  "language_info": {
   "codemirror_mode": {
    "name": "ipython",
    "version": 3
   },
   "file_extension": ".py",
   "mimetype": "text/x-python",
   "name": "python",
   "nbconvert_exporter": "python",
   "pygments_lexer": "ipython3",
   "version": "3.9.0"
  },
  "orig_nbformat": 4
 },
 "nbformat": 4,
 "nbformat_minor": 2
}
