{
 "cells": [
  {
   "cell_type": "code",
   "execution_count": null,
   "metadata": {},
   "outputs": [],
   "source": [
    "import pstats\n",
    "from pstats import SortKey\n",
    "import cProfile\n",
    "import snakeviz\n",
    "# import pathlib"
   ]
  },
  {
   "cell_type": "code",
   "execution_count": null,
   "metadata": {},
   "outputs": [],
   "source": [
    "# Post dedicated programming profiling output\n",
    "profile = 'Profiling/postDP/BacteriaTest_no_testing_3/BacteriaTest_no_testing_3_profile.prof'"
   ]
  },
  {
   "cell_type": "code",
   "execution_count": null,
   "metadata": {},
   "outputs": [],
   "source": [
    "# Read profile using pstats module\n",
    "Stats_object = pstats.Stats(profile)"
   ]
  },
  {
   "cell_type": "code",
   "execution_count": null,
   "metadata": {},
   "outputs": [],
   "source": [
    "# remove leading path name for readability\n",
    "Stats_object.strip_dirs()\n"
   ]
  },
  {
   "cell_type": "code",
   "execution_count": null,
   "metadata": {},
   "outputs": [],
   "source": [
    "# Sort statistics by 'cumtime' the total cumulative time for that function to run so we can see what is contributing most to runtime.\n",
    "# Only show top 30 most time-consuming functions\n",
    "Stats_object.sort_stats(SortKey.CUMULATIVE).print_stats(30)"
   ]
  },
  {
   "cell_type": "code",
   "execution_count": null,
   "metadata": {},
   "outputs": [],
   "source": [
    "# Sort statistics by 'tottime' the total time in that given function not including sub-calls to see which functions may be looping alot.\n",
    "# Only show top 30\n",
    "Stats_object.sort_stats(SortKey.TIME).print_stats(30)"
   ]
  }
 ],
 "metadata": {
  "interpreter": {
   "hash": "a4eda3d9fe943090cb05df5ce8e45003fb8f4723850ba6f9bd2cce3886b69592"
  },
  "kernelspec": {
   "display_name": "Python 3.8.0 64-bit ('MLDSP')",
   "language": "python",
   "name": "python3"
  },
  "language_info": {
   "codemirror_mode": {
    "name": "ipython",
    "version": 3
   },
   "file_extension": ".py",
   "mimetype": "text/x-python",
   "name": "python",
   "nbconvert_exporter": "python",
   "pygments_lexer": "ipython3",
   "version": "3.9.0"
  },
  "orig_nbformat": 4
 },
 "nbformat": 4,
 "nbformat_minor": 2
}
