{
 "cells": [
  {
   "cell_type": "code",
   "execution_count": 1,
   "metadata": {},
   "outputs": [],
   "source": [
    "import pandas as pd"
   ]
  },
  {
   "cell_type": "code",
   "execution_count": 2,
   "metadata": {},
   "outputs": [],
   "source": [
    "#Original GISAID metadata file contains 24250 samples not including reference strain. Download by David Chen\n",
    "metadata = pd.read_csv('/Users/dolteanu/local_documents/Coding/Ontario covid data/ontario_metadata.tsv',sep='\\t')"
   ]
  },
  {
   "cell_type": "code",
   "execution_count": 3,
   "metadata": {},
   "outputs": [],
   "source": [
    "strain_fixed = metadata['strain'].str.removeprefix(\"hCoV-19/\")\n",
    "metadata['strain'] = strain_fixed"
   ]
  },
  {
   "cell_type": "code",
   "execution_count": 4,
   "metadata": {},
   "outputs": [],
   "source": [
    "# JMIR publication Ontario covid dataset used\n",
    "david_24244 = pd.read_csv('/Users/dolteanu/local_documents/Coding/Ontario covid data/GISAID_Ontario_ID.csv',header=None)\n",
    "david_24244 = david_24244.iloc[:,0]"
   ]
  },
  {
   "cell_type": "code",
   "execution_count": 5,
   "metadata": {},
   "outputs": [],
   "source": [
    "# Thesis Ontario covid dataset used\n",
    "daniel_24249 = pd.read_csv('/Users/dolteanu/local_documents/Coding/Ontario covid data/Ontario_covid/gisaid_clade_metadata.csv',header=None)\n",
    "daniel_24249 = daniel_24249.iloc[:,0]"
   ]
  },
  {
   "cell_type": "code",
   "execution_count": 6,
   "metadata": {},
   "outputs": [],
   "source": [
    "# Thesis Ontario covid with Gisaid clades having < 10 samples removed i.e Clade L\n",
    "daniel_cladeL = pd.read_csv('/Users/dolteanu/local_documents/Coding/Ontario covid data/Ontario_covid/gisaid_filtered<10.csv', header=None)\n",
    "daniel_cladeL = daniel_cladeL.iloc[:,0]"
   ]
  },
  {
   "cell_type": "code",
   "execution_count": 7,
   "metadata": {},
   "outputs": [
    {
     "data": {
      "text/html": [
       "<div>\n",
       "<style scoped>\n",
       "    .dataframe tbody tr th:only-of-type {\n",
       "        vertical-align: middle;\n",
       "    }\n",
       "\n",
       "    .dataframe tbody tr th {\n",
       "        vertical-align: top;\n",
       "    }\n",
       "\n",
       "    .dataframe thead th {\n",
       "        text-align: right;\n",
       "    }\n",
       "</style>\n",
       "<table border=\"1\" class=\"dataframe\">\n",
       "  <thead>\n",
       "    <tr style=\"text-align: right;\">\n",
       "      <th></th>\n",
       "      <th>gisaid_epi_isl</th>\n",
       "    </tr>\n",
       "  </thead>\n",
       "  <tbody>\n",
       "    <tr>\n",
       "      <th>71</th>\n",
       "      <td>EPI_ISL_538336</td>\n",
       "    </tr>\n",
       "    <tr>\n",
       "      <th>72</th>\n",
       "      <td>EPI_ISL_538338</td>\n",
       "    </tr>\n",
       "    <tr>\n",
       "      <th>73</th>\n",
       "      <td>EPI_ISL_538339</td>\n",
       "    </tr>\n",
       "    <tr>\n",
       "      <th>1086</th>\n",
       "      <td>EPI_ISL_755880</td>\n",
       "    </tr>\n",
       "    <tr>\n",
       "      <th>1665</th>\n",
       "      <td>EPI_ISL_933618</td>\n",
       "    </tr>\n",
       "  </tbody>\n",
       "</table>\n",
       "</div>"
      ],
      "text/plain": [
       "      gisaid_epi_isl\n",
       "71    EPI_ISL_538336\n",
       "72    EPI_ISL_538338\n",
       "73    EPI_ISL_538339\n",
       "1086  EPI_ISL_755880\n",
       "1665  EPI_ISL_933618"
      ]
     },
     "execution_count": 7,
     "metadata": {},
     "output_type": "execute_result"
    }
   ],
   "source": [
    "# Samples in Thesis that are not in JMIR paper\n",
    "not_JMIR_set = set(daniel_24249).difference(david_24244)\n",
    "metadata.loc[metadata['strain'].isin(not_JMIR_set),['gisaid_epi_isl']]"
   ]
  },
  {
   "cell_type": "code",
   "execution_count": 8,
   "metadata": {},
   "outputs": [
    {
     "data": {
      "text/plain": [
       "set()"
      ]
     },
     "execution_count": 8,
     "metadata": {},
     "output_type": "execute_result"
    }
   ],
   "source": [
    "# No samples present in JMIR publication that are not present in thesis\n",
    "set(david_24244).difference(daniel_24249)"
   ]
  },
  {
   "cell_type": "code",
   "execution_count": 9,
   "metadata": {},
   "outputs": [
    {
     "data": {
      "text/html": [
       "<div>\n",
       "<style scoped>\n",
       "    .dataframe tbody tr th:only-of-type {\n",
       "        vertical-align: middle;\n",
       "    }\n",
       "\n",
       "    .dataframe tbody tr th {\n",
       "        vertical-align: top;\n",
       "    }\n",
       "\n",
       "    .dataframe thead th {\n",
       "        text-align: right;\n",
       "    }\n",
       "</style>\n",
       "<table border=\"1\" class=\"dataframe\">\n",
       "  <thead>\n",
       "    <tr style=\"text-align: right;\">\n",
       "      <th></th>\n",
       "      <th>gisaid_epi_isl</th>\n",
       "    </tr>\n",
       "  </thead>\n",
       "  <tbody>\n",
       "    <tr>\n",
       "      <th>6</th>\n",
       "      <td>EPI_ISL_418328</td>\n",
       "    </tr>\n",
       "    <tr>\n",
       "      <th>36</th>\n",
       "      <td>EPI_ISL_418379</td>\n",
       "    </tr>\n",
       "    <tr>\n",
       "      <th>507</th>\n",
       "      <td>EPI_ISL_591219</td>\n",
       "    </tr>\n",
       "    <tr>\n",
       "      <th>646</th>\n",
       "      <td>EPI_ISL_413014</td>\n",
       "    </tr>\n",
       "    <tr>\n",
       "      <th>647</th>\n",
       "      <td>EPI_ISL_413015</td>\n",
       "    </tr>\n",
       "    <tr>\n",
       "      <th>1027</th>\n",
       "      <td>EPI_ISL_418327</td>\n",
       "    </tr>\n",
       "    <tr>\n",
       "      <th>1652</th>\n",
       "      <td>EPI_ISL_933605</td>\n",
       "    </tr>\n",
       "  </tbody>\n",
       "</table>\n",
       "</div>"
      ],
      "text/plain": [
       "      gisaid_epi_isl\n",
       "6     EPI_ISL_418328\n",
       "36    EPI_ISL_418379\n",
       "507   EPI_ISL_591219\n",
       "646   EPI_ISL_413014\n",
       "647   EPI_ISL_413015\n",
       "1027  EPI_ISL_418327\n",
       "1652  EPI_ISL_933605"
      ]
     },
     "execution_count": 9,
     "metadata": {},
     "output_type": "execute_result"
    }
   ],
   "source": [
    "# Samples removed from Thesis Ontario covid dataset of gisaid clade <10 samples (n=7); these are present in JMIR paper\n",
    "cladeL_set = set(david_24244).difference(daniel_cladeL)\n",
    "metadata.loc[metadata['strain'].isin(cladeL_set),['gisaid_epi_isl']]"
   ]
  },
  {
   "cell_type": "code",
   "execution_count": null,
   "metadata": {},
   "outputs": [],
   "source": [
    "# # Uncomment Only for Nextstrain dataset to get clades > 20 samples\n",
    "# metadata = pd.read_csv('/Users/dolteanu/local_documents/Coding/Gisaid data 01:11:22/hcov_global_2022-01-09_23-30/hcov_global.tsv',sep='\\t')\n",
    "# gisaid = metadata['GISAID_clade'].value_counts()>20\n",
    "# Clades_to_pick = gisaid[gisaid==True].index"
   ]
  },
  {
   "cell_type": "code",
   "execution_count": 10,
   "metadata": {},
   "outputs": [],
   "source": [
    "# Comment if running above cell\n",
    "Clades_to_pick = daniel_24249\n",
    "\n",
    "# Print csv of samples used\n",
    "accession_list=metadata.loc[metadata['GISAID_clade'].isin(Clades_to_pick),['gisaid_epi_isl']]\n",
    "# Set name as appropriate\n",
    "accession_list.to_csv('./Ontario_covid_EPI.csv',index=False)"
   ]
  }
 ],
 "metadata": {
  "interpreter": {
   "hash": "437e530e1211667c31e526bac4fb362423203f9285acc500ca69089e6622449e"
  },
  "kernelspec": {
   "display_name": "Python 3.9.0 64-bit ('playground')",
   "language": "python",
   "name": "python3"
  },
  "language_info": {
   "codemirror_mode": {
    "name": "ipython",
    "version": 3
   },
   "file_extension": ".py",
   "mimetype": "text/x-python",
   "name": "python",
   "nbconvert_exporter": "python",
   "pygments_lexer": "ipython3",
   "version": "3.9.0"
  },
  "orig_nbformat": 4
 },
 "nbformat": 4,
 "nbformat_minor": 2
}
