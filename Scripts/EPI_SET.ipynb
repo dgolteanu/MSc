{
 "cells": [
  {
   "cell_type": "code",
   "execution_count": null,
   "metadata": {},
   "outputs": [],
   "source": [
    "import pandas as pd"
   ]
  },
  {
   "cell_type": "code",
   "execution_count": null,
   "metadata": {},
   "outputs": [],
   "source": [
    "#Original GISAID metadata file contains 24252 samples not including reference strain & 4 error rows [0,47,48,50,51]. Download by David Chen\n",
    "bad_metadata = pd.read_csv('/Users/dolteanu/local_documents/Coding/Ontario covid data/ontario_metadata.tsv',sep='\\t')\n",
    "metadata = bad_metadata.drop(index=[0,47,48,50,51])\n",
    "# Remove prefix to match my thesis data\n",
    "strain_fixed = metadata['strain'].str.removeprefix(\"hCoV-19/\")\n",
    "metadata['strain'] = strain_fixed"
   ]
  },
  {
   "cell_type": "code",
   "execution_count": null,
   "metadata": {},
   "outputs": [],
   "source": [
    "# Remove duplicates by accession id as done in thesis dataset\n",
    "metadata.drop_duplicates(subset=['strain'],inplace=True)\n"
   ]
  },
  {
   "cell_type": "code",
   "execution_count": null,
   "metadata": {},
   "outputs": [],
   "source": [
    "# JMIR publication Ontario covid dataset used\n",
    "david_24244 = pd.read_csv('/Users/dolteanu/local_documents/Coding/Ontario covid data/GISAID_Ontario_ID.csv',header=None)\n",
    "david_24244 = david_24244.iloc[:,0]"
   ]
  },
  {
   "cell_type": "code",
   "execution_count": null,
   "metadata": {},
   "outputs": [],
   "source": [
    "# Thesis Ontario covid dataset used\n",
    "daniel_24249 = pd.read_csv('/Users/dolteanu/local_documents/Coding/Ontario covid data/Ontario_covid/gisaid_clade_metadata.csv',header=None,names=['strain','GISAID_clade'])\n",
    "# daniel_24249 = daniel_24249.iloc[:,0]"
   ]
  },
  {
   "cell_type": "code",
   "execution_count": null,
   "metadata": {},
   "outputs": [],
   "source": [
    "# Confirm no samples present in original 'metadata' set from David Chen that are not present in thesis \n",
    "set(daniel_24249['strain']).difference(metadata['strain'])"
   ]
  },
  {
   "cell_type": "code",
   "execution_count": null,
   "metadata": {},
   "outputs": [],
   "source": [
    "# Thesis Ontario covid with Gisaid clades having < 10 samples removed i.e Clade L\n",
    "daniel_cladeL = pd.read_csv('/Users/dolteanu/local_documents/Coding/Ontario covid data/Ontario_covid/gisaid_filtered<10.csv', header=None)\n",
    "daniel_cladeL = daniel_cladeL.iloc[:,0]"
   ]
  },
  {
   "cell_type": "code",
   "execution_count": null,
   "metadata": {},
   "outputs": [],
   "source": [
    "# Samples in Thesis that are not in JMIR paper \n",
    "not_JMIR_set = set(daniel_24249['strain']).difference(david_24244)\n",
    "metadata.loc[metadata['strain'].isin(not_JMIR_set),['gisaid_epi_isl']]"
   ]
  },
  {
   "cell_type": "code",
   "execution_count": null,
   "metadata": {},
   "outputs": [],
   "source": [
    "# Confirm no samples present in JMIR publication that are not present in thesis\n",
    "set(david_24244).difference(daniel_24249['strain'])"
   ]
  },
  {
   "cell_type": "code",
   "execution_count": null,
   "metadata": {},
   "outputs": [],
   "source": [
    "# Samples removed from Thesis Ontario covid dataset of gisaid clade <10 samples (n=7); these are present in JMIR paper\n",
    "cladeL_set = set(david_24244).difference(daniel_cladeL)\n",
    "metadata.loc[metadata['strain'].isin(cladeL_set),['gisaid_epi_isl']]"
   ]
  },
  {
   "cell_type": "code",
   "execution_count": null,
   "metadata": {},
   "outputs": [],
   "source": [
    "# Set of cells for generating EPI_SET.csv of filtered datasets used, uncomment appropriate cell (can be run sequentially but csv name need be changed in last cell & re-)"
   ]
  },
  {
   "cell_type": "code",
   "execution_count": 14,
   "metadata": {},
   "outputs": [],
   "source": [
    "# Only for Nextstrain dataset to get gisaid clades > 20 samples\n",
    "test_metadata = pd.read_csv('/Users/dolteanu/local_documents/Coding/Gisaid data 01:11:22/hcov_global_2022-01-09_23-30/hcov_global.tsv',sep='\\t')\n",
    "gisaid = test_metadata['GISAID_clade'].value_counts()>20\n",
    "Clades_to_pick = gisaid[gisaid==True].index\n",
    "next_gisaid_list=test_metadata.loc[test_metadata['GISAID_clade'].isin(Clades_to_pick),['gisaid_epi_isl']]"
   ]
  },
  {
   "cell_type": "code",
   "execution_count": 15,
   "metadata": {},
   "outputs": [],
   "source": [
    "#  Only for Nextstrain dataset to get nextstrain clades > 20 samples\n",
    "test_metadata = pd.read_csv('/Users/dolteanu/local_documents/Coding/Gisaid data 01:11:22/hcov_global_2022-01-09_23-30/hcov_global.tsv',sep='\\t')\n",
    "nextstrain = test_metadata['Nextstrain_clade'].value_counts()>20\n",
    "Clades_to_pick = nextstrain[nextstrain==True].index\n",
    "next_clade_list=test_metadata.loc[test_metadata['Nextstrain_clade'].isin(Clades_to_pick),['gisaid_epi_isl']]"
   ]
  },
  {
   "cell_type": "code",
   "execution_count": 16,
   "metadata": {},
   "outputs": [],
   "source": [
    "# Only for Ontario covid dataset to get gisaid clades > 10 samples\n",
    "filtered = metadata[metadata['strain'].isin(daniel_24249['strain'])]\n",
    "ontario_list=filtered['gisaid_epi_isl']"
   ]
  },
  {
   "cell_type": "code",
   "execution_count": 17,
   "metadata": {},
   "outputs": [],
   "source": [
    "# Set name as appropriate\n",
    "next_gisaid_list.to_csv('./Nextstrain_gisaid>20_EPI.csv',index=False)\n",
    "next_clade_list.to_csv('./Nextstrain_clade>20_EPI.csv',index=False)\n",
    "ontario_list.to_csv('./Ontario_covid_EPI.csv',index=False)"
   ]
  }
 ],
 "metadata": {
  "interpreter": {
   "hash": "437e530e1211667c31e526bac4fb362423203f9285acc500ca69089e6622449e"
  },
  "kernelspec": {
   "display_name": "Python 3.9.0 64-bit ('playground')",
   "language": "python",
   "name": "python3"
  },
  "language_info": {
   "codemirror_mode": {
    "name": "ipython",
    "version": 3
   },
   "file_extension": ".py",
   "mimetype": "text/x-python",
   "name": "python",
   "nbconvert_exporter": "python",
   "pygments_lexer": "ipython3",
   "version": "3.9.0"
  },
  "orig_nbformat": 4
 },
 "nbformat": 4,
 "nbformat_minor": 2
}
