{
 "cells": [
  {
   "cell_type": "code",
   "execution_count": 1,
   "metadata": {},
   "outputs": [],
   "source": [
    "import pandas as pd"
   ]
  },
  {
   "cell_type": "code",
   "execution_count": 2,
   "metadata": {},
   "outputs": [],
   "source": [
    "#Original GISAID metadata file contains 24252 samples not including reference strain & 4 error rows [0,47,48,50,51]. Download by David Chen\n",
    "bad_metadata = pd.read_csv('/Users/dolteanu/local_documents/Coding/Ontario covid data/ontario_metadata.tsv',sep='\\t')\n",
    "metadata = bad_metadata.drop(index=[0,47,48,50,51])\n",
    "# Remove prefix to match my thesis data\n",
    "strain_fixed = metadata['strain'].str.removeprefix(\"hCoV-19/\")\n",
    "metadata['strain'] = strain_fixed"
   ]
  },
  {
   "cell_type": "code",
   "execution_count": 3,
   "metadata": {},
   "outputs": [],
   "source": [
    "# Remove duplicates by accession id as done in thesis dataset, 24249 remaining\n",
    "metadata.drop_duplicates(subset=['strain'],inplace=True)\n"
   ]
  },
  {
   "cell_type": "code",
   "execution_count": 5,
   "metadata": {},
   "outputs": [],
   "source": [
    "# JMIR publication Ontario covid dataset used\n",
    "david_24244 = pd.read_csv('/Users/dolteanu/local_documents/Coding/Ontario covid data/GISAID_Ontario_ID.csv',header=None)\n",
    "#convert dataframe to series\n",
    "david_24244 = david_24244.iloc[:,0]"
   ]
  },
  {
   "cell_type": "code",
   "execution_count": 6,
   "metadata": {},
   "outputs": [],
   "source": [
    "# Thesis Ontario covid dataset used\n",
    "daniel_24249 = pd.read_csv('/Users/dolteanu/local_documents/Coding/Ontario covid data/Ontario_covid/gisaid_clade_metadata.csv',header=None,names=['strain','GISAID_clade'])\n",
    "# daniel_24249 = daniel_24249.iloc[:,0]"
   ]
  },
  {
   "cell_type": "code",
   "execution_count": 8,
   "metadata": {},
   "outputs": [],
   "source": [
    "# Thesis Ontario covid with Gisaid clades having < 10 samples removed i.e Clade L (7 samples)\n",
    "daniel_cladeL = pd.read_csv('/Users/dolteanu/local_documents/Coding/Ontario covid data/Ontario_covid/gisaid_filtered<10.csv', header=None)\n",
    "daniel_cladeL = daniel_cladeL.iloc[:,0]"
   ]
  },
  {
   "cell_type": "code",
   "execution_count": 9,
   "metadata": {},
   "outputs": [
    {
     "data": {
      "text/html": [
       "<div>\n",
       "<style scoped>\n",
       "    .dataframe tbody tr th:only-of-type {\n",
       "        vertical-align: middle;\n",
       "    }\n",
       "\n",
       "    .dataframe tbody tr th {\n",
       "        vertical-align: top;\n",
       "    }\n",
       "\n",
       "    .dataframe thead th {\n",
       "        text-align: right;\n",
       "    }\n",
       "</style>\n",
       "<table border=\"1\" class=\"dataframe\">\n",
       "  <thead>\n",
       "    <tr style=\"text-align: right;\">\n",
       "      <th></th>\n",
       "      <th>gisaid_epi_isl</th>\n",
       "    </tr>\n",
       "  </thead>\n",
       "  <tbody>\n",
       "    <tr>\n",
       "      <th>71</th>\n",
       "      <td>EPI_ISL_538336</td>\n",
       "    </tr>\n",
       "    <tr>\n",
       "      <th>72</th>\n",
       "      <td>EPI_ISL_538338</td>\n",
       "    </tr>\n",
       "    <tr>\n",
       "      <th>73</th>\n",
       "      <td>EPI_ISL_538339</td>\n",
       "    </tr>\n",
       "    <tr>\n",
       "      <th>1086</th>\n",
       "      <td>EPI_ISL_755880</td>\n",
       "    </tr>\n",
       "    <tr>\n",
       "      <th>1665</th>\n",
       "      <td>EPI_ISL_933618</td>\n",
       "    </tr>\n",
       "  </tbody>\n",
       "</table>\n",
       "</div>"
      ],
      "text/plain": [
       "      gisaid_epi_isl\n",
       "71    EPI_ISL_538336\n",
       "72    EPI_ISL_538338\n",
       "73    EPI_ISL_538339\n",
       "1086  EPI_ISL_755880\n",
       "1665  EPI_ISL_933618"
      ]
     },
     "execution_count": 9,
     "metadata": {},
     "output_type": "execute_result"
    }
   ],
   "source": [
    "# Samples in Thesis that are not in JMIR paper \n",
    "not_JMIR_set = set(daniel_24249['strain']).difference(david_24244)\n",
    "metadata.loc[metadata['strain'].isin(not_JMIR_set),['gisaid_epi_isl']]"
   ]
  },
  {
   "cell_type": "code",
   "execution_count": 10,
   "metadata": {},
   "outputs": [
    {
     "data": {
      "text/plain": [
       "set()"
      ]
     },
     "execution_count": 10,
     "metadata": {},
     "output_type": "execute_result"
    }
   ],
   "source": [
    "# Confirm no samples present in JMIR publication that are not present in thesis\n",
    "set(david_24244).difference(daniel_24249['strain'])"
   ]
  },
  {
   "cell_type": "code",
   "execution_count": 11,
   "metadata": {},
   "outputs": [
    {
     "data": {
      "text/html": [
       "<div>\n",
       "<style scoped>\n",
       "    .dataframe tbody tr th:only-of-type {\n",
       "        vertical-align: middle;\n",
       "    }\n",
       "\n",
       "    .dataframe tbody tr th {\n",
       "        vertical-align: top;\n",
       "    }\n",
       "\n",
       "    .dataframe thead th {\n",
       "        text-align: right;\n",
       "    }\n",
       "</style>\n",
       "<table border=\"1\" class=\"dataframe\">\n",
       "  <thead>\n",
       "    <tr style=\"text-align: right;\">\n",
       "      <th></th>\n",
       "      <th>gisaid_epi_isl</th>\n",
       "    </tr>\n",
       "  </thead>\n",
       "  <tbody>\n",
       "    <tr>\n",
       "      <th>6</th>\n",
       "      <td>EPI_ISL_418328</td>\n",
       "    </tr>\n",
       "    <tr>\n",
       "      <th>36</th>\n",
       "      <td>EPI_ISL_418379</td>\n",
       "    </tr>\n",
       "    <tr>\n",
       "      <th>507</th>\n",
       "      <td>EPI_ISL_591219</td>\n",
       "    </tr>\n",
       "    <tr>\n",
       "      <th>646</th>\n",
       "      <td>EPI_ISL_413014</td>\n",
       "    </tr>\n",
       "    <tr>\n",
       "      <th>647</th>\n",
       "      <td>EPI_ISL_413015</td>\n",
       "    </tr>\n",
       "    <tr>\n",
       "      <th>1027</th>\n",
       "      <td>EPI_ISL_418327</td>\n",
       "    </tr>\n",
       "    <tr>\n",
       "      <th>1652</th>\n",
       "      <td>EPI_ISL_933605</td>\n",
       "    </tr>\n",
       "  </tbody>\n",
       "</table>\n",
       "</div>"
      ],
      "text/plain": [
       "      gisaid_epi_isl\n",
       "6     EPI_ISL_418328\n",
       "36    EPI_ISL_418379\n",
       "507   EPI_ISL_591219\n",
       "646   EPI_ISL_413014\n",
       "647   EPI_ISL_413015\n",
       "1027  EPI_ISL_418327\n",
       "1652  EPI_ISL_933605"
      ]
     },
     "execution_count": 11,
     "metadata": {},
     "output_type": "execute_result"
    }
   ],
   "source": [
    "# Samples filtered from Thesis Ontario covid dataset of gisaid clade <10 samples (n=7); these are present in JMIR paper\n",
    "cladeL_set = set(david_24244).difference(daniel_cladeL)\n",
    "metadata.loc[metadata['strain'].isin(cladeL_set),['gisaid_epi_isl']]"
   ]
  },
  {
   "cell_type": "code",
   "execution_count": 7,
   "metadata": {},
   "outputs": [
    {
     "data": {
      "text/plain": [
       "set()"
      ]
     },
     "execution_count": 7,
     "metadata": {},
     "output_type": "execute_result"
    }
   ],
   "source": [
    "# Confirm no samples present in original 'metadata' set from David Chen were lost in thesis filtering\n",
    "set(daniel_24249['strain']).difference(metadata['strain'])"
   ]
  },
  {
   "cell_type": "code",
   "execution_count": 22,
   "metadata": {},
   "outputs": [],
   "source": [
    "# Filtering of Ontario covid dataset to get gisaid clades > 10 samples for csv export\n",
    "filtered = metadata[metadata['strain'].isin(daniel_cladeL)]\n",
    "ontario_list=filtered['gisaid_epi_isl']"
   ]
  },
  {
   "cell_type": "code",
   "execution_count": null,
   "metadata": {},
   "outputs": [],
   "source": [
    "# Set of cells for generating EPI_SET.csv of datasets used, uncomment appropriate cell (can be run sequentially but csv name need be changed in last cell & re-)"
   ]
  },
  {
   "cell_type": "code",
   "execution_count": 21,
   "metadata": {},
   "outputs": [],
   "source": [
    "# Ontario covid dataset EPI_ISL_IDs \n",
    "metadata['gisaid_epi_isl'].to_csv('./Ontario_covid_EPI.csv',index=False)"
   ]
  },
  {
   "cell_type": "code",
   "execution_count": 14,
   "metadata": {},
   "outputs": [],
   "source": [
    "# Nextstrain dataset EPI_ISL_IDs \n",
    "test_metadata = pd.read_csv('/Users/dolteanu/local_documents/Coding/Gisaid data 01:11:22/hcov_global_2022-01-09_23-30/hcov_global.tsv',sep='\\t')\n",
    "nextstrain_metadata= test_metadata['gisaid_epi_isl']\n",
    "nextstrain_metadata.to_csv('./Nextstrain_EPI.csv',index=False)"
   ]
  },
  {
   "cell_type": "code",
   "execution_count": 15,
   "metadata": {},
   "outputs": [],
   "source": [
    "# Filtering of Nextstrain dataset to get gisaid clades > 20 samples for csv export\n",
    "gisaid = test_metadata['GISAID_clade'].value_counts()>20\n",
    "Clades_to_pick = gisaid[gisaid==True].index\n",
    "nextstrain_gisaid_filtered=test_metadata.loc[test_metadata['GISAID_clade'].isin(Clades_to_pick),['gisaid_epi_isl']]"
   ]
  },
  {
   "cell_type": "code",
   "execution_count": 18,
   "metadata": {},
   "outputs": [
    {
     "data": {
      "text/plain": [
       "{'EPI_ISL_1073625',\n",
       " 'EPI_ISL_1199027',\n",
       " 'EPI_ISL_1714048',\n",
       " 'EPI_ISL_1714696',\n",
       " 'EPI_ISL_2232189',\n",
       " 'EPI_ISL_3366469',\n",
       " 'EPI_ISL_402125',\n",
       " 'EPI_ISL_403930',\n",
       " 'EPI_ISL_406798',\n",
       " 'EPI_ISL_410301',\n",
       " 'EPI_ISL_419558',\n",
       " 'EPI_ISL_426629',\n",
       " 'EPI_ISL_434534',\n",
       " 'EPI_ISL_451958',\n",
       " 'EPI_ISL_456187',\n",
       " 'EPI_ISL_456201',\n",
       " 'EPI_ISL_4771900',\n",
       " 'EPI_ISL_482679',\n",
       " 'EPI_ISL_512092',\n",
       " 'EPI_ISL_541018',\n",
       " 'EPI_ISL_547451',\n",
       " 'EPI_ISL_574607',\n",
       " 'EPI_ISL_579489',\n",
       " 'EPI_ISL_582019',\n",
       " 'EPI_ISL_582617',\n",
       " 'EPI_ISL_621282',\n",
       " 'EPI_ISL_636492',\n",
       " 'EPI_ISL_649124',\n",
       " 'EPI_ISL_678479',\n",
       " 'EPI_ISL_718143',\n",
       " 'EPI_ISL_744521',\n",
       " 'EPI_ISL_766041',\n",
       " 'EPI_ISL_794614',\n",
       " 'EPI_ISL_802543',\n",
       " 'EPI_ISL_827780',\n",
       " 'EPI_ISL_830256'}"
      ]
     },
     "execution_count": 18,
     "metadata": {},
     "output_type": "execute_result"
    }
   ],
   "source": [
    "# Samples filtered from Thesis Nextstrain dataset of gisaid clade <20 samples (n=36)(Clades GV, L, V); these are present in JMIR paper\n",
    "set(nextstrain_metadata).difference(nextstrain_gisaid_filtered['gisaid_epi_isl'])"
   ]
  },
  {
   "cell_type": "code",
   "execution_count": 19,
   "metadata": {},
   "outputs": [],
   "source": [
    "#  Only for Nextstrain dataset to get nextstrain clades > 20 samples\n",
    "nextstrain = test_metadata['Nextstrain_clade'].value_counts()>20\n",
    "next_to_pick = nextstrain[nextstrain==True].index\n",
    "nextstrain_clade_filtered=test_metadata.loc[test_metadata['Nextstrain_clade'].isin(next_to_pick),['gisaid_epi_isl']]"
   ]
  },
  {
   "cell_type": "code",
   "execution_count": 20,
   "metadata": {},
   "outputs": [
    {
     "data": {
      "text/plain": [
       "{'EPI_ISL_1037197',\n",
       " 'EPI_ISL_1073625',\n",
       " 'EPI_ISL_1098645',\n",
       " 'EPI_ISL_1134769',\n",
       " 'EPI_ISL_1167702',\n",
       " 'EPI_ISL_1199027',\n",
       " 'EPI_ISL_1253633',\n",
       " 'EPI_ISL_1258014',\n",
       " 'EPI_ISL_1527039',\n",
       " 'EPI_ISL_1593727',\n",
       " 'EPI_ISL_1734233',\n",
       " 'EPI_ISL_1790091',\n",
       " 'EPI_ISL_2230700',\n",
       " 'EPI_ISL_2232189',\n",
       " 'EPI_ISL_2276073',\n",
       " 'EPI_ISL_2301629',\n",
       " 'EPI_ISL_2346429',\n",
       " 'EPI_ISL_2391364',\n",
       " 'EPI_ISL_2447843',\n",
       " 'EPI_ISL_2501709',\n",
       " 'EPI_ISL_2604870',\n",
       " 'EPI_ISL_2610471',\n",
       " 'EPI_ISL_2610683',\n",
       " 'EPI_ISL_2691896',\n",
       " 'EPI_ISL_2788186',\n",
       " 'EPI_ISL_2802859',\n",
       " 'EPI_ISL_2928027',\n",
       " 'EPI_ISL_3020128',\n",
       " 'EPI_ISL_3026018',\n",
       " 'EPI_ISL_3160715',\n",
       " 'EPI_ISL_3185575',\n",
       " 'EPI_ISL_3266859',\n",
       " 'EPI_ISL_3274366',\n",
       " 'EPI_ISL_3366469',\n",
       " 'EPI_ISL_3547003',\n",
       " 'EPI_ISL_4273978',\n",
       " 'EPI_ISL_4273995',\n",
       " 'EPI_ISL_4372793',\n",
       " 'EPI_ISL_4497058',\n",
       " 'EPI_ISL_4771900',\n",
       " 'EPI_ISL_498544',\n",
       " 'EPI_ISL_498546',\n",
       " 'EPI_ISL_512092',\n",
       " 'EPI_ISL_5146279',\n",
       " 'EPI_ISL_5201410',\n",
       " 'EPI_ISL_521862',\n",
       " 'EPI_ISL_522705',\n",
       " 'EPI_ISL_5301577',\n",
       " 'EPI_ISL_530239',\n",
       " 'EPI_ISL_530339',\n",
       " 'EPI_ISL_541018',\n",
       " 'EPI_ISL_547969',\n",
       " 'EPI_ISL_547985',\n",
       " 'EPI_ISL_5504370',\n",
       " 'EPI_ISL_561659',\n",
       " 'EPI_ISL_5681696',\n",
       " 'EPI_ISL_576136',\n",
       " 'EPI_ISL_577607',\n",
       " 'EPI_ISL_5781644',\n",
       " 'EPI_ISL_579093',\n",
       " 'EPI_ISL_579095',\n",
       " 'EPI_ISL_579106',\n",
       " 'EPI_ISL_582019',\n",
       " 'EPI_ISL_5934959',\n",
       " 'EPI_ISL_593727',\n",
       " 'EPI_ISL_6129002',\n",
       " 'EPI_ISL_6208263',\n",
       " 'EPI_ISL_621282',\n",
       " 'EPI_ISL_6342892',\n",
       " 'EPI_ISL_641098',\n",
       " 'EPI_ISL_649124',\n",
       " 'EPI_ISL_6507608',\n",
       " 'EPI_ISL_6572162',\n",
       " 'EPI_ISL_672658',\n",
       " 'EPI_ISL_678479',\n",
       " 'EPI_ISL_6930644',\n",
       " 'EPI_ISL_6932169',\n",
       " 'EPI_ISL_6990142',\n",
       " 'EPI_ISL_744521',\n",
       " 'EPI_ISL_755621',\n",
       " 'EPI_ISL_7747387',\n",
       " 'EPI_ISL_7846353',\n",
       " 'EPI_ISL_794614',\n",
       " 'EPI_ISL_802543',\n",
       " 'EPI_ISL_8151831',\n",
       " 'EPI_ISL_8172964',\n",
       " 'EPI_ISL_8189775',\n",
       " 'EPI_ISL_8250824',\n",
       " 'EPI_ISL_827780',\n",
       " 'EPI_ISL_8295636',\n",
       " 'EPI_ISL_830256',\n",
       " 'EPI_ISL_831695',\n",
       " 'EPI_ISL_8371939',\n",
       " 'EPI_ISL_8408376',\n",
       " 'EPI_ISL_8438518',\n",
       " 'EPI_ISL_849155',\n",
       " 'EPI_ISL_8494312',\n",
       " 'EPI_ISL_8494313',\n",
       " 'EPI_ISL_849682',\n",
       " 'EPI_ISL_873124',\n",
       " 'EPI_ISL_877559',\n",
       " 'EPI_ISL_937067',\n",
       " 'EPI_ISL_995301'}"
      ]
     },
     "execution_count": 20,
     "metadata": {},
     "output_type": "execute_result"
    }
   ],
   "source": [
    "# Samples filtered from Thesis Nextstrain dataset of nextstrain clades <20 samples (n=103)(Clades 20D, 21H (Mu), 20E (EU1), 20F, 20G, 21G (Lambda), 21D (Eta), 21F (Iota), 21L (Omicron), 21C (Epsilon))\n",
    "set(nextstrain_metadata).difference(nextstrain_clade_filtered['gisaid_epi_isl'])"
   ]
  },
  {
   "cell_type": "code",
   "execution_count": 23,
   "metadata": {},
   "outputs": [],
   "source": [
    "# Uncomment to generate csv of filtered dataset's EPI_ISL_IDs\n",
    "nextstrain_gisaid_filtered.to_csv('./Nextstrain_gisaid>20_EPI.csv',index=False)\n",
    "nextstrain_clade_filtered.to_csv('./Nextstrain_clade>20_EPI.csv',index=False)\n",
    "ontario_list.to_csv('./Ontario_covid_gisaid>10_EPI.csv',index=False)"
   ]
  }
 ],
 "metadata": {
  "interpreter": {
   "hash": "437e530e1211667c31e526bac4fb362423203f9285acc500ca69089e6622449e"
  },
  "kernelspec": {
   "display_name": "Python 3.9.0 64-bit ('playground')",
   "language": "python",
   "name": "python3"
  },
  "language_info": {
   "codemirror_mode": {
    "name": "ipython",
    "version": 3
   },
   "file_extension": ".py",
   "mimetype": "text/x-python",
   "name": "python",
   "nbconvert_exporter": "python",
   "pygments_lexer": "ipython3",
   "version": "3.9.0"
  },
  "orig_nbformat": 4
 },
 "nbformat": 4,
 "nbformat_minor": 2
}
