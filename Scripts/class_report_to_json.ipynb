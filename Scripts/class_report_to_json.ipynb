{
 "cells": [
  {
   "cell_type": "code",
   "execution_count": 1,
   "metadata": {},
   "outputs": [],
   "source": [
    "# clear variables between cells, variables re-used\n"
   ]
  },
  {
   "cell_type": "code",
   "execution_count": 1,
   "metadata": {},
   "outputs": [],
   "source": [
    "import json\n",
    "import dill\n",
    "\n",
    "file_path = '/Users/dolteanu/local_documents/Coding/MSc_github/Results/Nextstrain_gisaid_2/Nextstrain_gisaid_2_classification_report.pkl'\n",
    "with open(file_path, 'rb') as file:\n",
    "    class_reports = dill.load(file)\n",
    "\n",
    "report_data = []\n",
    "\n",
    "for model_name, reports in class_reports.items():\n",
    "    for fold_idx, report in enumerate(reports):\n",
    "        fold_data = {\n",
    "            'model': model_name,\n",
    "            'fold': fold_idx + 1,\n",
    "            'accuracy': report.get('accuracy', None),\n",
    "            'classes': []\n",
    "        }\n",
    "        for label, metrics in report.items():\n",
    "            if isinstance(metrics, dict):\n",
    "                class_metrics = metrics.copy()\n",
    "                class_metrics['label'] = label\n",
    "                fold_data['classes'].append(class_metrics)\n",
    "        report_data.append(fold_data)\n",
    "\n",
    "output_file_path = './Nextstrain_gisaid_2_classification_reports.json'\n",
    "with open(output_file_path, 'w') as json_file:\n",
    "    json.dump(report_data, json_file, indent=4)"
   ]
  },
  {
   "cell_type": "code",
   "execution_count": 2,
   "metadata": {},
   "outputs": [],
   "source": [
    "import json\n",
    "import dill\n",
    "\n",
    "file_path = '/Users/dolteanu/local_documents/Coding/MSc_github/Results/Nextstrain_clade_2/Nextstrain_clade_2_classification_report.pkl'\n",
    "with open(file_path, 'rb') as file:\n",
    "    class_reports = dill.load(file)\n",
    "\n",
    "report_data = []\n",
    "\n",
    "for model_name, reports in class_reports.items():\n",
    "    for fold_idx, report in enumerate(reports):\n",
    "        fold_data = {\n",
    "            'model': model_name,\n",
    "            'fold': fold_idx + 1,\n",
    "            'accuracy': report.get('accuracy', None),\n",
    "            'classes': []\n",
    "        }\n",
    "        for label, metrics in report.items():\n",
    "            if isinstance(metrics, dict):\n",
    "                class_metrics = metrics.copy()\n",
    "                class_metrics['label'] = label\n",
    "                fold_data['classes'].append(class_metrics)\n",
    "        report_data.append(fold_data)\n",
    "\n",
    "output_file_path = './Nextstrain_clade_2_classification_reports.json'\n",
    "with open(output_file_path, 'w') as json_file:\n",
    "    json.dump(report_data, json_file, indent=4)"
   ]
  },
  {
   "cell_type": "code",
   "execution_count": 2,
   "metadata": {},
   "outputs": [],
   "source": [
    "import json\n",
    "import dill\n",
    "\n",
    "file_path = '/Users/dolteanu/local_documents/Coding/MSc_github/Results/Ontario_epochs_3/Ontario_epochs_3_classification_report.pkl'\n",
    "with open(file_path, 'rb') as file:\n",
    "    class_reports = dill.load(file)\n",
    "\n",
    "report_data = []\n",
    "\n",
    "for model_name, reports in class_reports.items():\n",
    "    for fold_idx, report in enumerate(reports):\n",
    "        fold_data = {\n",
    "            'model': model_name,\n",
    "            'fold': fold_idx + 1,\n",
    "            'accuracy': report.get('accuracy', None),\n",
    "            'classes': []\n",
    "        }\n",
    "        for label, metrics in report.items():\n",
    "            if isinstance(metrics, dict):\n",
    "                class_metrics = metrics.copy()\n",
    "                class_metrics['label'] = label\n",
    "                fold_data['classes'].append(class_metrics)\n",
    "        report_data.append(fold_data)\n",
    "\n",
    "output_file_path = './Ontario_epochs_3_classification_reports.json'\n",
    "with open(output_file_path, 'w') as json_file:\n",
    "    json.dump(report_data, json_file, indent=4)"
   ]
  },
  {
   "cell_type": "code",
   "execution_count": null,
   "metadata": {},
   "outputs": [],
   "source": [
    "import json\n",
    "import dill\n",
    "\n",
    "file_path = '/Users/dolteanu/local_documents/Coding/MSc_github/Results/Ontario_gisaid_7/Ontario_gisaid_7_classification_report.pkl'\n",
    "with open(file_path, 'rb') as file:\n",
    "    class_reports = dill.load(file)\n",
    "\n",
    "report_data = []\n",
    "\n",
    "for model_name, reports in class_reports.items():\n",
    "    for fold_idx, report in enumerate(reports):\n",
    "        fold_data = {\n",
    "            'model': model_name,\n",
    "            'fold': fold_idx + 1,\n",
    "            'accuracy': report.get('accuracy', None),\n",
    "            'classes': []\n",
    "        }\n",
    "        for label, metrics in report.items():\n",
    "            if isinstance(metrics, dict):\n",
    "                class_metrics = metrics.copy()\n",
    "                class_metrics['label'] = label\n",
    "                fold_data['classes'].append(class_metrics)\n",
    "        report_data.append(fold_data)\n",
    "\n",
    "output_file_path = './Ontario_gisaid_7_classification_reports.json'\n",
    "with open(output_file_path, 'w') as json_file:\n",
    "    json.dump(report_data, json_file, indent=4)"
   ]
  }
 ],
 "metadata": {
  "interpreter": {
   "hash": "437e530e1211667c31e526bac4fb362423203f9285acc500ca69089e6622449e"
  },
  "kernelspec": {
   "display_name": "Python 3.9.0 64-bit ('playground')",
   "language": "python",
   "name": "python3"
  },
  "language_info": {
   "codemirror_mode": {
    "name": "ipython",
    "version": 3
   },
   "file_extension": ".py",
   "mimetype": "text/x-python",
   "name": "python",
   "nbconvert_exporter": "python",
   "pygments_lexer": "ipython3",
   "version": "3.9.0"
  },
  "orig_nbformat": 4
 },
 "nbformat": 4,
 "nbformat_minor": 2
}
