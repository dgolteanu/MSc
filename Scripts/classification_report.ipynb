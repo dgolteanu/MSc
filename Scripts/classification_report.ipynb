{
 "cells": [
  {
   "cell_type": "code",
   "execution_count": 1,
   "metadata": {},
   "outputs": [],
   "source": [
    "import pandas as pd\n",
    "import dill"
   ]
  },
  {
   "cell_type": "code",
   "execution_count": 2,
   "metadata": {},
   "outputs": [],
   "source": [
    "with open('/Users/dolteanu/local_documents/Coding/MSc_github/Results/Ontario_gisaid_6/Ontario_gisaid_6_classification_report.pkl', 'rb') as data_path:\n",
    "    classification_report = dill.load(data_path)"
   ]
  },
  {
   "cell_type": "code",
   "execution_count": 3,
   "metadata": {},
   "outputs": [],
   "source": [
    "# initialize an empty dictionary to store the average metrics for each classifier\n",
    "average_metrics = {}\n",
    "\n",
    "# iterate over the classifiers\n",
    "for classifier_name, reports in classification_report.items():\n",
    "    # initialize an empty dictionary to store the average metrics for each class\n",
    "    average_class_metrics = {}\n",
    "    # iterate over the classification reports (list) for each fold\n",
    "    for report in reports:\n",
    "        for class_name, metrics in report.items():\n",
    "            # if class_name!='accuracy':\n",
    "                # metrics.pop('support')\n",
    "                if class_name not in average_class_metrics:\n",
    "                    average_class_metrics[class_name] = metrics\n",
    "                elif class_name!='accuracy':\n",
    "                    for metric, value in metrics.items():\n",
    "                        average_class_metrics[class_name][metric] += value\n",
    "                else:\n",
    "                    average_class_metrics['accuracy'] += metrics\n",
    "    # divide the accumulated values by the number of folds to obtain the average metrics\n",
    "    num_folds = len(reports)\n",
    "    for class_name, metrics in average_class_metrics.items():\n",
    "        if class_name!='accuracy':\n",
    "            for metric, value in metrics.items():\n",
    "                average_class_metrics[class_name][metric] /= num_folds\n",
    "        else:\n",
    "            average_class_metrics['accuracy'] /= num_folds\n",
    "    average_metrics[classifier_name] = average_class_metrics"
   ]
  },
  {
   "cell_type": "code",
   "execution_count": 9,
   "metadata": {},
   "outputs": [],
   "source": [
    "table = pd.DataFrame.from_dict(average_metrics['LinearDiscriminant'])"
   ]
  },
  {
   "cell_type": "code",
   "execution_count": 10,
   "metadata": {},
   "outputs": [
    {
     "data": {
      "text/html": [
       "<div>\n",
       "<style scoped>\n",
       "    .dataframe tbody tr th:only-of-type {\n",
       "        vertical-align: middle;\n",
       "    }\n",
       "\n",
       "    .dataframe tbody tr th {\n",
       "        vertical-align: top;\n",
       "    }\n",
       "\n",
       "    .dataframe thead th {\n",
       "        text-align: right;\n",
       "    }\n",
       "</style>\n",
       "<table border=\"1\" class=\"dataframe\">\n",
       "  <thead>\n",
       "    <tr style=\"text-align: right;\">\n",
       "      <th></th>\n",
       "      <th>G</th>\n",
       "      <th>GH</th>\n",
       "      <th>GK</th>\n",
       "      <th>GR</th>\n",
       "      <th>GRY</th>\n",
       "      <th>GV</th>\n",
       "      <th>O</th>\n",
       "      <th>S</th>\n",
       "      <th>V</th>\n",
       "      <th>accuracy</th>\n",
       "      <th>macro avg</th>\n",
       "      <th>weighted avg</th>\n",
       "    </tr>\n",
       "  </thead>\n",
       "  <tbody>\n",
       "    <tr>\n",
       "      <th>precision</th>\n",
       "      <td>0.995122</td>\n",
       "      <td>0.999815</td>\n",
       "      <td>0.999176</td>\n",
       "      <td>0.991525</td>\n",
       "      <td>0.970216</td>\n",
       "      <td>0.933333</td>\n",
       "      <td>0.975000</td>\n",
       "      <td>1.0</td>\n",
       "      <td>1.0</td>\n",
       "      <td>0.9934</td>\n",
       "      <td>0.984910</td>\n",
       "      <td>0.993539</td>\n",
       "    </tr>\n",
       "    <tr>\n",
       "      <th>recall</th>\n",
       "      <td>0.983159</td>\n",
       "      <td>0.999631</td>\n",
       "      <td>0.999794</td>\n",
       "      <td>0.980292</td>\n",
       "      <td>0.987586</td>\n",
       "      <td>0.950000</td>\n",
       "      <td>0.833333</td>\n",
       "      <td>1.0</td>\n",
       "      <td>1.0</td>\n",
       "      <td>0.9934</td>\n",
       "      <td>0.970422</td>\n",
       "      <td>0.993400</td>\n",
       "    </tr>\n",
       "    <tr>\n",
       "      <th>f1-score</th>\n",
       "      <td>0.989068</td>\n",
       "      <td>0.999723</td>\n",
       "      <td>0.999485</td>\n",
       "      <td>0.985859</td>\n",
       "      <td>0.978789</td>\n",
       "      <td>0.916667</td>\n",
       "      <td>0.875714</td>\n",
       "      <td>1.0</td>\n",
       "      <td>1.0</td>\n",
       "      <td>0.9934</td>\n",
       "      <td>0.971700</td>\n",
       "      <td>0.993393</td>\n",
       "    </tr>\n",
       "  </tbody>\n",
       "</table>\n",
       "</div>"
      ],
      "text/plain": [
       "                  G        GH        GK        GR       GRY        GV  \\\n",
       "precision  0.995122  0.999815  0.999176  0.991525  0.970216  0.933333   \n",
       "recall     0.983159  0.999631  0.999794  0.980292  0.987586  0.950000   \n",
       "f1-score   0.989068  0.999723  0.999485  0.985859  0.978789  0.916667   \n",
       "\n",
       "                  O    S    V  accuracy  macro avg  weighted avg  \n",
       "precision  0.975000  1.0  1.0    0.9934   0.984910      0.993539  \n",
       "recall     0.833333  1.0  1.0    0.9934   0.970422      0.993400  \n",
       "f1-score   0.875714  1.0  1.0    0.9934   0.971700      0.993393  "
      ]
     },
     "execution_count": 10,
     "metadata": {},
     "output_type": "execute_result"
    }
   ],
   "source": [
    "table.drop(index='support')"
   ]
  },
  {
   "cell_type": "code",
   "execution_count": 6,
   "metadata": {},
   "outputs": [],
   "source": [
    "export = pd.DataFrame()\n",
    "for classifier, table in average_metrics.items():\n",
    "    export.from_dict(table)\n",
    "    "
   ]
  },
  {
   "cell_type": "code",
   "execution_count": null,
   "metadata": {},
   "outputs": [],
   "source": [
    "with open('table.tex','w') as tf:\n",
    "     tf.write(df.to_latex())"
   ]
  }
 ],
 "metadata": {
  "interpreter": {
   "hash": "437e530e1211667c31e526bac4fb362423203f9285acc500ca69089e6622449e"
  },
  "kernelspec": {
   "display_name": "Python 3.9.0 64-bit ('playground')",
   "language": "python",
   "name": "python3"
  },
  "language_info": {
   "codemirror_mode": {
    "name": "ipython",
    "version": 3
   },
   "file_extension": ".py",
   "mimetype": "text/x-python",
   "name": "python",
   "nbconvert_exporter": "python",
   "pygments_lexer": "ipython3",
   "version": "3.9.0"
  },
  "orig_nbformat": 4
 },
 "nbformat": 4,
 "nbformat_minor": 2
}
