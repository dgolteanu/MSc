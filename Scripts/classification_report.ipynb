{
 "cells": [
  {
   "cell_type": "code",
   "execution_count": null,
   "metadata": {},
   "outputs": [],
   "source": [
    "import pandas as pd\n",
    "import dill"
   ]
  },
  {
   "cell_type": "code",
   "execution_count": null,
   "metadata": {},
   "outputs": [],
   "source": [
    "with open('/Users/dolteanu/local_documents/Coding/MSc_github/Results/Nextstrain_clade_2/Nextstrain_clade_2_classification_report.pkl', 'rb') as data_path:\n",
    "    classification_report = dill.load(data_path)"
   ]
  },
  {
   "cell_type": "code",
   "execution_count": null,
   "metadata": {},
   "outputs": [],
   "source": [
    "classification_report.keys()"
   ]
  },
  {
   "cell_type": "code",
   "execution_count": null,
   "metadata": {},
   "outputs": [],
   "source": [
    "# initialize an empty dictionary to store the average metrics for each classifier\n",
    "average_metrics = {}\n",
    "\n",
    "# iterate over the classifiers\n",
    "for classifier_name, reports in classification_report.items():\n",
    "    # initialize an empty dictionary to store the average metrics for each class\n",
    "    average_class_metrics = {}\n",
    "    # iterate over the classification reports (list) for each fold\n",
    "    for report in reports:\n",
    "        for class_name, metrics in report.items():\n",
    "            # if class_name!='accuracy':\n",
    "                # metrics.pop('support')\n",
    "                if class_name not in average_class_metrics:\n",
    "                    average_class_metrics[class_name] = metrics\n",
    "                elif class_name!='accuracy':\n",
    "                    for metric, value in metrics.items():\n",
    "                        average_class_metrics[class_name][metric] += value\n",
    "                else:\n",
    "                    average_class_metrics['accuracy'] += metrics\n",
    "    # divide the accumulated values by the number of folds to obtain the average metrics\n",
    "    num_folds = len(reports)\n",
    "    for class_name, metrics in average_class_metrics.items():\n",
    "        if class_name!='accuracy':\n",
    "            for metric, value in metrics.items():\n",
    "                average_class_metrics[class_name][metric] /= num_folds\n",
    "        else:\n",
    "            average_class_metrics['accuracy'] /= num_folds\n",
    "    average_metrics[classifier_name] = average_class_metrics"
   ]
  },
  {
   "cell_type": "code",
   "execution_count": null,
   "metadata": {},
   "outputs": [],
   "source": [
    "df = pd.concat({classifier: pd.DataFrame(report).T for classifier, report in average_metrics.items()}, axis=0)\n",
    "df.drop(columns='support')\n",
    "df.drop(labels='accuracy', level=1)"
   ]
  },
  {
   "cell_type": "code",
   "execution_count": null,
   "metadata": {},
   "outputs": [],
   "source": [
    "with open('nextstrain_clade.tex','w') as tf:\n",
    "     tf.write(df.to_latex(float_format=\"%.2f\"))"
   ]
  },
  {
   "cell_type": "code",
   "execution_count": null,
   "metadata": {},
   "outputs": [],
   "source": [
    "accuracy_dict = {model: average_metrics[model]['accuracy'] for model in average_metrics}\n",
    "accuracy_df = pd.DataFrame(list(accuracy_dict.items()), columns=['Model', 'Unbalanced Accuracy'])\n",
    "accuracy_table = accuracy_df.to_latex(index=False)\n",
    "with open('nextstrain_clade_accuracy.tex','w') as tf:\n",
    "     tf.write(accuracy_df.to_latex(index=False,float_format=\"%.2f\"))\n"
   ]
  }
 ],
 "metadata": {
  "interpreter": {
   "hash": "437e530e1211667c31e526bac4fb362423203f9285acc500ca69089e6622449e"
  },
  "kernelspec": {
   "display_name": "Python 3.9.0 64-bit ('playground')",
   "language": "python",
   "name": "python3"
  },
  "language_info": {
   "codemirror_mode": {
    "name": "ipython",
    "version": 3
   },
   "file_extension": ".py",
   "mimetype": "text/x-python",
   "name": "python",
   "nbconvert_exporter": "python",
   "pygments_lexer": "ipython3",
   "version": "3.9.0"
  },
  "orig_nbformat": 4
 },
 "nbformat": 4,
 "nbformat_minor": 2
}
