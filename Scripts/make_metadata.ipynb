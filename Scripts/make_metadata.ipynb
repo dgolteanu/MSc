{
 "cells": [
  {
   "cell_type": "code",
   "execution_count": null,
   "metadata": {},
   "outputs": [],
   "source": [
    "# Notebook to convert nested directory into metadata.csv file; mainly used to convert old MLDSP format to new\n",
    "# folder names should be class labels & contain fasta files of given class"
   ]
  },
  {
   "cell_type": "code",
   "execution_count": null,
   "metadata": {},
   "outputs": [],
   "source": [
    "data_path = '/Users/dolteanu/local_documents/Coding/Medim'"
   ]
  },
  {
   "cell_type": "code",
   "execution_count": null,
   "metadata": {},
   "outputs": [],
   "source": [
    "import os\n",
    "from pathlib import Path\n",
    "import pandas as pd\n",
    "from tqdm import tqdm"
   ]
  },
  {
   "cell_type": "code",
   "execution_count": null,
   "metadata": {},
   "outputs": [],
   "source": [
    "from Bio import SeqIO\n",
    "for folder in tqdm(os.listdir(data_path)):\n",
    "    if not folder.startswith('.'):\n",
    "        os.mkdir(os.path.join('./data',folder))\n",
    "        data_set = os.path.join(data_path,folder)\n",
    "        cluster_dict={}\n",
    "        #loop over each cluster_names (class label)\n",
    "        os.mkdir(os.path.join(\"./data\",folder,\"fastas\"))\n",
    "        for cluster_names in sorted(os.listdir(data_set)):\n",
    "            if not cluster_names.startswith('.'):\n",
    "                for file in sorted(os.listdir(os.path.join(data_set,cluster_names))):\n",
    "                    with open(os.path.join(data_set,cluster_names,file)) as handle:\n",
    "                        for r in SeqIO.parse(handle, 'fasta'):\n",
    "                            cluster_dict[r.id] = cluster_names\n",
    "                     \n",
    "                            with open(os.path.join(\"./data\",folder,\"fastas\",file),'w') as outpath:\n",
    "                                SeqIO.write(r,outpath,'fasta')\n",
    "        df = pd.DataFrame.from_dict(cluster_dict, orient='index') \n",
    "        df.to_csv(os.path.join('./data',folder,'metadata.csv'),index=True,header=False)\n",
    "\n"
   ]
  },
  {
   "cell_type": "code",
   "execution_count": null,
   "metadata": {},
   "outputs": [],
   "source": [
    "#Removes spaces from folder names, not files\n",
    "for data in os.listdir(data_path):\n",
    "    if not folder.startswith('.'):\n",
    "        folder_path =os.path.join(data_path,folder)\n",
    "        os.replace(folder_path,folder_path.replace(\" \",\"_\"))\n",
    "    "
   ]
  }
 ],
 "metadata": {
  "interpreter": {
   "hash": "7472a9ec7f3fc71dcf9c782edfdc6069c62af0ae0e799e3cfe92580f5119c984"
  },
  "kernelspec": {
   "display_name": "Python 3.8.0 64-bit ('MLDSP': pyenv)",
   "language": "python",
   "name": "python3"
  },
  "language_info": {
   "codemirror_mode": {
    "name": "ipython",
    "version": 3
   },
   "file_extension": ".py",
   "mimetype": "text/x-python",
   "name": "python",
   "nbconvert_exporter": "python",
   "pygments_lexer": "ipython3",
   "version": "3.8.0"
  },
  "orig_nbformat": 4
 },
 "nbformat": 4,
 "nbformat_minor": 2
}
